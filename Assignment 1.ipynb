{
 "cells": [
  {
   "cell_type": "markdown",
   "id": "65495057-eac0-4b89-bdf0-f5dab69c5488",
   "metadata": {},
   "source": [
    "#### Q1 Create one variable containing following type of data:"
   ]
  },
  {
   "cell_type": "raw",
   "id": "e09ed60c-5eaa-42b8-a1fa-616cf0d86833",
   "metadata": {},
   "source": [
    "(1) String"
   ]
  },
  {
   "cell_type": "code",
   "execution_count": null,
   "id": "3470364b-02e9-41b0-b8dc-2e59db0fee3c",
   "metadata": {},
   "outputs": [],
   "source": [
    "name = \"Vrij raj singh gaur\""
   ]
  },
  {
   "cell_type": "raw",
   "id": "144fa795-da45-413b-97be-dbf0af2fb5b7",
   "metadata": {},
   "source": [
    "(2) List"
   ]
  },
  {
   "cell_type": "code",
   "execution_count": null,
   "id": "bc97f1ec-b43e-453e-964e-12e8cf595e09",
   "metadata": {},
   "outputs": [],
   "source": [
    "l = [2, 5, \"Raj\", 35.42, True]"
   ]
  },
  {
   "cell_type": "raw",
   "id": "221526ab-1d96-4fcb-a75d-86cea9f4052e",
   "metadata": {},
   "source": [
    "(3) Float"
   ]
  },
  {
   "cell_type": "code",
   "execution_count": null,
   "id": "45f5fb62-1414-425c-a872-6d30afeab633",
   "metadata": {},
   "outputs": [],
   "source": [
    "b = 35.42"
   ]
  },
  {
   "cell_type": "raw",
   "id": "bd75abfd-cdb0-4372-b333-4340a778ffe6",
   "metadata": {},
   "source": [
    "(4) Tuple"
   ]
  },
  {
   "cell_type": "code",
   "execution_count": null,
   "id": "cd541ddb-58af-4e16-b523-6ccf43dae36b",
   "metadata": {},
   "outputs": [],
   "source": [
    "my_tuple = (34, 40, 35.42, \"Raj\", True)"
   ]
  },
  {
   "cell_type": "markdown",
   "id": "682754cb-9018-4bb4-bde2-5a94f1671358",
   "metadata": {},
   "source": [
    "#### Q2 Given are some following variables containing data:"
   ]
  },
  {
   "cell_type": "raw",
   "id": "d9014b2c-405e-45af-9140-540793f8d0ae",
   "metadata": {},
   "source": [
    "(1) String"
   ]
  },
  {
   "cell_type": "raw",
   "id": "860c6c21-9b37-4404-9707-27d169892c89",
   "metadata": {},
   "source": [
    "(2) String"
   ]
  },
  {
   "cell_type": "raw",
   "id": "abba212b-3fed-4de0-8d74-84581bdc382b",
   "metadata": {},
   "source": [
    "(3) String"
   ]
  },
  {
   "cell_type": "raw",
   "id": "fc57db46-054f-46f6-8370-57e8291f5022",
   "metadata": {},
   "source": [
    "(4) Integer"
   ]
  },
  {
   "cell_type": "markdown",
   "id": "c89151b3-04b1-4818-8a46-3054bf277437",
   "metadata": {},
   "source": [
    "#### Q3 Explain the use of the following operators using an example;"
   ]
  },
  {
   "cell_type": "raw",
   "id": "69564e1a-0654-4878-a056-b71b0b2681b6",
   "metadata": {},
   "source": [
    "(1) Division Operator /"
   ]
  },
  {
   "cell_type": "code",
   "execution_count": 1,
   "id": "58c1f21e-e03a-4421-9851-f90fc002cde9",
   "metadata": {},
   "outputs": [
    {
     "data": {
      "text/plain": [
       "2.5"
      ]
     },
     "execution_count": 1,
     "metadata": {},
     "output_type": "execute_result"
    }
   ],
   "source": [
    "5/2"
   ]
  },
  {
   "cell_type": "raw",
   "id": "8378f270-9ac0-485f-a335-8eff2f82822a",
   "metadata": {},
   "source": [
    "(2) Modulus operator %"
   ]
  },
  {
   "cell_type": "code",
   "execution_count": 2,
   "id": "b84a96e1-d8b0-4e30-841a-6753c02f9dc1",
   "metadata": {},
   "outputs": [
    {
     "data": {
      "text/plain": [
       "1"
      ]
     },
     "execution_count": 2,
     "metadata": {},
     "output_type": "execute_result"
    }
   ],
   "source": [
    "5%2"
   ]
  },
  {
   "cell_type": "raw",
   "id": "92d6d4f8-b9b4-4846-91fc-98ba08c81738",
   "metadata": {},
   "source": [
    "(3) Floor Division //"
   ]
  },
  {
   "cell_type": "code",
   "execution_count": 3,
   "id": "e503f3e7-c9e9-448b-a268-ca016c334e41",
   "metadata": {},
   "outputs": [
    {
     "data": {
      "text/plain": [
       "2"
      ]
     },
     "execution_count": 3,
     "metadata": {},
     "output_type": "execute_result"
    }
   ],
   "source": [
    "5//2"
   ]
  },
  {
   "cell_type": "raw",
   "id": "847ab126-cbf1-42a2-a909-c7e1a6e239c0",
   "metadata": {},
   "source": [
    "(4) Exponent Operator"
   ]
  },
  {
   "cell_type": "code",
   "execution_count": 4,
   "id": "566ecb7c-71b2-43a1-ae50-0c4f45162a76",
   "metadata": {},
   "outputs": [
    {
     "data": {
      "text/plain": [
       "27"
      ]
     },
     "execution_count": 4,
     "metadata": {},
     "output_type": "execute_result"
    }
   ],
   "source": [
    "3**3"
   ]
  },
  {
   "cell_type": "markdown",
   "id": "3dec9543-e256-4a4f-9107-14efdd5ec01f",
   "metadata": {},
   "source": [
    "#### Q4 Create a list of length 10 of your choice containing multiple types of data. Using For Loop print the element and its data type."
   ]
  },
  {
   "cell_type": "code",
   "execution_count": 1,
   "id": "d27dbfe1-aa66-4f65-bf48-939bef628129",
   "metadata": {},
   "outputs": [],
   "source": [
    "l = [2,3,4,5,\"raj\",\"pwskills\", 32.45, True, False, 4.5]"
   ]
  },
  {
   "cell_type": "code",
   "execution_count": 2,
   "id": "5dca673d-2a6c-4f81-9a2c-01864294b949",
   "metadata": {},
   "outputs": [
    {
     "name": "stdout",
     "output_type": "stream",
     "text": [
      "<class 'int'>\n",
      "<class 'int'>\n",
      "<class 'int'>\n",
      "<class 'int'>\n",
      "<class 'str'>\n",
      "<class 'str'>\n",
      "<class 'float'>\n",
      "<class 'bool'>\n",
      "<class 'bool'>\n",
      "<class 'float'>\n"
     ]
    }
   ],
   "source": [
    "for i in l:\n",
    "    print(type(i))"
   ]
  },
  {
   "cell_type": "markdown",
   "id": "6b5d67eb-55ff-46ea-b9f7-cbf1560d5f09",
   "metadata": {},
   "source": [
    "#### Q5 Using a while loop, verify if the number A is purely divisible by number B and if so then how many times it can be divisible."
   ]
  },
  {
   "cell_type": "code",
   "execution_count": 6,
   "id": "212fadbb-83da-402d-9336-78d5c70a3ca9",
   "metadata": {},
   "outputs": [
    {
     "name": "stdout",
     "output_type": "stream",
     "text": [
      "Number A is divisible by B 2 times.\n"
     ]
    }
   ],
   "source": [
    "A = 100  # The number to be divided\n",
    "B = 5    # The divisor\n",
    "\n",
    "count = 0  # Initialize the count\n",
    "\n",
    "while A % B == 0:\n",
    "    A = A // B  # Divide A by B\n",
    "    count += 1  # Increment the count\n",
    "\n",
    "print(\"Number A is divisible by B\", count, \"times.\")\n"
   ]
  },
  {
   "cell_type": "code",
   "execution_count": null,
   "id": "bc70d959-0695-4269-8549-916d3fafd641",
   "metadata": {},
   "outputs": [],
   "source": []
  },
  {
   "cell_type": "markdown",
   "id": "5d688afa-ea9f-4a5f-83c1-39e7f8e2610e",
   "metadata": {},
   "source": [
    "#### Q7 What do you understand about mutable and immutable data type? Give example for both showing this property."
   ]
  },
  {
   "cell_type": "raw",
   "id": "37098230-3b06-4f4f-8bee-14a1ee8da71a",
   "metadata": {},
   "source": [
    "1. Mutable Example"
   ]
  },
  {
   "cell_type": "code",
   "execution_count": 1,
   "id": "42bd8129-a5b1-4a32-ba0a-a74e4a7b65a4",
   "metadata": {},
   "outputs": [],
   "source": [
    "l = [2,3,4,5,\"raj\",\"pwskills\", 32.45, True, False, 4.5]"
   ]
  },
  {
   "cell_type": "code",
   "execution_count": 2,
   "id": "84c6519e-e342-4cf3-b471-aed3d7bfa5fa",
   "metadata": {},
   "outputs": [],
   "source": [
    "l[4] = \"singh\""
   ]
  },
  {
   "cell_type": "code",
   "execution_count": 3,
   "id": "101a6760-c6ea-4707-b9bc-4f9cf91b0783",
   "metadata": {},
   "outputs": [
    {
     "data": {
      "text/plain": [
       "[2, 3, 4, 5, 'singh', 'pwskills', 32.45, True, False, 4.5]"
      ]
     },
     "execution_count": 3,
     "metadata": {},
     "output_type": "execute_result"
    }
   ],
   "source": [
    "l"
   ]
  },
  {
   "cell_type": "raw",
   "id": "dd0e2762-b9e6-4090-abcc-88a20c4023d7",
   "metadata": {},
   "source": [
    "2. Immutable Example"
   ]
  },
  {
   "cell_type": "code",
   "execution_count": 4,
   "id": "706ebca0-ebd6-41c0-81e9-2f4b63adbfef",
   "metadata": {},
   "outputs": [],
   "source": [
    "name = \"Sudhansu\""
   ]
  },
  {
   "cell_type": "code",
   "execution_count": 5,
   "id": "594be22b-c7a3-4fca-952b-99e429a14871",
   "metadata": {},
   "outputs": [
    {
     "ename": "NameError",
     "evalue": "name 'a' is not defined",
     "output_type": "error",
     "traceback": [
      "\u001b[0;31m---------------------------------------------------------------------------\u001b[0m",
      "\u001b[0;31mNameError\u001b[0m                                 Traceback (most recent call last)",
      "Cell \u001b[0;32mIn[5], line 1\u001b[0m\n\u001b[0;32m----> 1\u001b[0m name[\u001b[38;5;241m3\u001b[39m] \u001b[38;5;241m=\u001b[39m \u001b[43ma\u001b[49m\n",
      "\u001b[0;31mNameError\u001b[0m: name 'a' is not defined"
     ]
    }
   ],
   "source": [
    "name[3] = a"
   ]
  },
  {
   "cell_type": "code",
   "execution_count": null,
   "id": "1ec5b03b-8f71-4250-b006-a6080ebe03de",
   "metadata": {},
   "outputs": [],
   "source": []
  }
 ],
 "metadata": {
  "kernelspec": {
   "display_name": "Python 3 (ipykernel)",
   "language": "python",
   "name": "python3"
  },
  "language_info": {
   "codemirror_mode": {
    "name": "ipython",
    "version": 3
   },
   "file_extension": ".py",
   "mimetype": "text/x-python",
   "name": "python",
   "nbconvert_exporter": "python",
   "pygments_lexer": "ipython3",
   "version": "3.10.8"
  }
 },
 "nbformat": 4,
 "nbformat_minor": 5
}
